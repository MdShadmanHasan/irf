{
 "cells": [
  {
   "cell_type": "code",
   "execution_count": 1,
   "id": "a243705c",
   "metadata": {},
   "outputs": [],
   "source": [
    "import numpy as np"
   ]
  },
  {
   "cell_type": "code",
   "execution_count": 2,
   "id": "eaba14fb",
   "metadata": {},
   "outputs": [],
   "source": [
    "data = np.load('lookAtPoint_EL_S1.npy')"
   ]
  },
  {
   "cell_type": "code",
   "execution_count": 3,
   "id": "b78987db",
   "metadata": {},
   "outputs": [
    {
     "data": {
      "text/plain": [
       "array([(0.0000e+00, 0.23443902, -3.0908184,  True, 1),\n",
       "       (1.0000e-03, 0.22365956, -3.0827339,  True, 1),\n",
       "       (2.0000e-03, 0.23443902, -3.104292 ,  True, 1), ...,\n",
       "       (8.1000e+01, 9.09191   ,  2.4117544,  True, 3),\n",
       "       (8.1001e+01, 9.099992  ,  2.3794177,  True, 3),\n",
       "       (8.1002e+01, 9.046098  ,  2.3686397,  True, 3)],\n",
       "      dtype=[('t', '<f8'), ('x', '<f4'), ('y', '<f4'), ('status', '?'), ('evt', 'u1')])"
      ]
     },
     "execution_count": 3,
     "metadata": {},
     "output_type": "execute_result"
    }
   ],
   "source": [
    "data"
   ]
  },
  {
   "cell_type": "code",
   "execution_count": 4,
   "id": "31bd1f78",
   "metadata": {},
   "outputs": [
    {
     "name": "stdout",
     "output_type": "stream",
     "text": [
      "[(0.0000e+00, 0.23443902, -3.0908184,  True, 1)\n",
      " (1.0000e-03, 0.22365956, -3.0827339,  True, 1)\n",
      " (2.0000e-03, 0.23443902, -3.104292 ,  True, 1) ...\n",
      " (8.1000e+01, 9.09191   ,  2.4117544,  True, 3)\n",
      " (8.1001e+01, 9.099992  ,  2.3794177,  True, 3)\n",
      " (8.1002e+01, 9.046098  ,  2.3686397,  True, 3)]\n"
     ]
    }
   ],
   "source": [
    "print(data)"
   ]
  },
  {
   "cell_type": "code",
   "execution_count": 5,
   "id": "a56e9dd6",
   "metadata": {},
   "outputs": [
    {
     "data": {
      "text/plain": [
       "numpy.ndarray"
      ]
     },
     "execution_count": 5,
     "metadata": {},
     "output_type": "execute_result"
    }
   ],
   "source": [
    "type(data)"
   ]
  },
  {
   "cell_type": "code",
   "execution_count": null,
   "id": "127c70ff",
   "metadata": {},
   "outputs": [],
   "source": []
  }
 ],
 "metadata": {
  "kernelspec": {
   "display_name": "Python 3 (ipykernel)",
   "language": "python",
   "name": "python3"
  },
  "language_info": {
   "codemirror_mode": {
    "name": "ipython",
    "version": 3
   },
   "file_extension": ".py",
   "mimetype": "text/x-python",
   "name": "python",
   "nbconvert_exporter": "python",
   "pygments_lexer": "ipython3",
   "version": "3.10.9"
  }
 },
 "nbformat": 4,
 "nbformat_minor": 5
}
